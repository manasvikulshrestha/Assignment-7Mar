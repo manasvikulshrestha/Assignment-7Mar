{
 "cells": [
  {
   "cell_type": "markdown",
   "id": "c9791fa8-a919-4f1a-924b-0dcc09838d66",
   "metadata": {},
   "source": [
    "Q1. What are the three measures of central tendency?\n",
    "A1. The three measures of central tendency are:\n",
    "\n",
    "1. Mean: The mean is the average value of a set of numbers. It is calculated by summing up all the values in the dataset and dividing by the total number of values.\n",
    "\n",
    "2. Median: The median is the middle value in a dataset when the values are arranged in ascending or descending order. If there is an even number of values, the median is calculated by taking the average of the two middle values.\n",
    "\n",
    "3. Mode: The mode is the value that appears most frequently in a dataset. Unlike the mean and median, which require numerical data, the mode can be calculated for both numerical and categorical data. A dataset can have one mode (unimodal), two modes (bimodal), or more than two modes (multimodal)."
   ]
  },
  {
   "cell_type": "markdown",
   "id": "40b17370-a4b3-49f9-80c4-4ec8510ddbea",
   "metadata": {},
   "source": [
    "Q2. What is the difference between the mean, median, and mode? How are they used to measure the\n",
    "central tendency of a dataset?\n",
    "A2. The mean, median, and mode are all measures of central tendency used to summarize and describe the distribution of data. Here's how they differ and how they are used:\n",
    "\n",
    "1. Mean:\n",
    "   - The mean is the average value of a dataset.\n",
    "   - It is calculated by summing up all the values in the dataset and dividing by the total number of values.\n",
    "   - The mean is sensitive to outliers, meaning that extreme values can greatly affect its value.\n",
    "   - It is commonly used when the data is normally distributed or when the distribution is symmetrical.\n",
    "\n",
    "2. Median:\n",
    "   - The median is the middle value in a dataset when the values are arranged in ascending or descending order.\n",
    "   - If there is an even number of values, the median is calculated by taking the average of the two middle values.\n",
    "   - The median is less affected by outliers compared to the mean, making it a more robust measure of central tendency in the presence of extreme values.\n",
    "   - It is often used when the data is skewed or when there are outliers present.\n",
    "\n",
    "3. Mode:\n",
    "   - The mode is the value that appears most frequently in a dataset.\n",
    "   - Unlike the mean and median, which require numerical data, the mode can be calculated for both numerical and categorical data.\n",
    "   - The mode is useful for identifying the most common value or category in a dataset.\n",
    "   - It can be particularly informative when analyzing categorical or discrete data.\n",
    "\n",
    "In summary, while the mean, median, and mode all provide information about the central tendency of a dataset, they each have their own strengths and weaknesses. The choice of which measure to use depends on the nature of the data and the specific goals of the analysis."
   ]
  },
  {
   "cell_type": "markdown",
   "id": "65c2298d-e68e-45e8-bbe3-ddd2bc208d9b",
   "metadata": {},
   "source": [
    "Q3. Measure the three measures of central tendency for the given height data:\n",
    "[178,177,176,177,178.2,178,175,179,180,175,178.9,176.2,177,172.5,178,176.5]"
   ]
  },
  {
   "cell_type": "code",
   "execution_count": 1,
   "id": "49bd5894-cbca-40f3-a7c4-a8d3710d75c8",
   "metadata": {},
   "outputs": [
    {
     "name": "stdout",
     "output_type": "stream",
     "text": [
      "Mean height: 177.01875\n",
      "Median height: 177.0\n",
      "Mode height: 178\n"
     ]
    }
   ],
   "source": [
    "import numpy as np\n",
    "\n",
    "# Given height data\n",
    "heights = np.array([178, 177, 176, 177, 178.2, 178, 175, 179, 180, 175, 178.9, 176.2, 177, 172.5, 178, 176.5])\n",
    "\n",
    "# Mean\n",
    "mean_height = np.mean(heights)\n",
    "\n",
    "# Median\n",
    "median_height = np.median(heights)\n",
    "\n",
    "# Mode\n",
    "mode_height = np.argmax(np.bincount(heights.astype(int)))\n",
    "\n",
    "print(\"Mean height:\", mean_height)\n",
    "print(\"Median height:\", median_height)\n",
    "print(\"Mode height:\", mode_height)"
   ]
  },
  {
   "cell_type": "markdown",
   "id": "987f0499-66b9-4e61-abf2-7a41aa69c6b5",
   "metadata": {},
   "source": [
    "Q4. Find the standard deviation for the given data:\n",
    "[178,177,176,177,178.2,178,175,179,180,175,178.9,176.2,177,172.5,178,176.5]"
   ]
  },
  {
   "cell_type": "code",
   "execution_count": 2,
   "id": "b3755641-a97a-4f01-b558-d7f1ca15fd2f",
   "metadata": {},
   "outputs": [
    {
     "name": "stdout",
     "output_type": "stream",
     "text": [
      "Standard deviation: 1.7885814036548633\n"
     ]
    }
   ],
   "source": [
    "import numpy\n",
    "data = np.array([178, 177, 176, 177, 178.2, 178, 175, 179, 180, 175, 178.9, 176.2, 177, 172.5, 178, 176.5])\n",
    "\n",
    "# Standard deviation\n",
    "std_deviation = np.std(data)\n",
    "\n",
    "print(\"Standard deviation:\", std_deviation)"
   ]
  },
  {
   "cell_type": "markdown",
   "id": "9546ecba-e992-486a-b77b-0e171538935c",
   "metadata": {},
   "source": [
    "Q5. How are measures of dispersion such as range, variance, and standard deviation used to describe\n",
    "the spread of a dataset? Provide an example.\n",
    "A5. Measures of dispersion, such as range, variance, and standard deviation, are used to describe the spread or variability of a dataset. They provide information about how much the values in the dataset differ from each other. Here's how each of these measures is used:\n",
    "\n",
    "1. Range:\n",
    "   - The range is the difference between the largest and smallest values in a dataset.\n",
    "   - It gives a simple indication of the spread of the data.\n",
    "   - However, it can be heavily influenced by outliers and may not give a complete picture of the variability.\n",
    "\n",
    "2. Variance:\n",
    "   - Variance measures the average squared deviation of each data point from the mean of the dataset.\n",
    "   - It gives a more precise measure of variability compared to range, as it considers the spread of all data points.\n",
    "   - However, because it is squared, it may not be as intuitive to interpret as other measures.\n",
    "\n",
    "3. Standard deviation:\n",
    "   - The standard deviation is the square root of the variance.\n",
    "   - It measures the average distance of each data point from the mean.\n",
    "   - Standard deviation is widely used because it is in the same units as the original data, making it easier to interpret.\n",
    "   - It provides a measure of the typical deviation from the mean, allowing for comparison across datasets with different means.\n",
    "\n",
    "Example:\n",
    "Consider two datasets representing the test scores of two classes:\n",
    "\n",
    "Class A: [80, 85, 90, 95, 100]\n",
    "Class B: [70, 75, 80, 85, 90]\n",
    "\n",
    "1. Range:\n",
    "   - For Class A: Range = 100 - 80 = 20\n",
    "   - For Class B: Range = 90 - 70 = 20\n",
    "   Both classes have the same range, indicating the same spread based on the range measure.\n",
    "\n",
    "2. Variance and Standard Deviation:\n",
    "   - For Class A: Variance = 50, Standard Deviation ≈ 7.07\n",
    "   - For Class B: Variance = 50, Standard Deviation ≈ 7.07\n",
    "   Both classes have the same variance and standard deviation, indicating the same spread based on these measures.\n",
    "\n",
    "In this example, while both classes have the same range, variance, and standard deviation, it's clear that they have similar levels of variability. However, other measures of dispersion, like variance and standard deviation, provide more detailed information about the spread of the data compared to range."
   ]
  },
  {
   "cell_type": "markdown",
   "id": "1c8b8f2b-b0cd-4a3d-9323-aedb94023db1",
   "metadata": {},
   "source": [
    "Q6. What is a Venn diagram?\n",
    "A6. A Venn diagram is a graphical representation used to illustrate the relationships and commonalities between different sets or groups of items. It consists of overlapping circles or other shapes, each representing a set, with the overlapping areas indicating the elements that belong to multiple sets.\n",
    "\n",
    "Key features of a Venn diagram:\n",
    "\n",
    "1. Sets: Each circle in a Venn diagram represents a set of items or elements. The items within a set share common characteristics or properties.\n",
    "\n",
    "2. Overlapping regions: The overlapping areas between the circles represent the elements that belong to multiple sets. The size of these regions depends on the extent of overlap between the sets.\n",
    "\n",
    "3. Uniqueness: The non-overlapping parts of the circles represent the elements unique to each set.\n",
    "\n",
    "Venn diagrams are commonly used in various fields, including mathematics, statistics, logic, and computer science, to visually depict relationships between different groups or categories of data. They provide a clear and intuitive way to understand the intersection and differences between sets. Venn diagrams can be simple, with just a few sets, or complex, with multiple overlapping regions representing numerous sets."
   ]
  },
  {
   "cell_type": "markdown",
   "id": "e32c14c0-4019-4dc3-b11d-d6bf9e0e15c7",
   "metadata": {},
   "source": [
    "Q7. For the two given sets A = (2,3,4,5,6,7) & B = (0,2,6,8,10). Find:\n",
    "(i) A intersect B\n",
    "(ii) A ⋃ B"
   ]
  },
  {
   "cell_type": "code",
   "execution_count": 3,
   "id": "f2cf9412-92ce-418e-9691-13cbd2ede13f",
   "metadata": {},
   "outputs": [
    {
     "name": "stdout",
     "output_type": "stream",
     "text": [
      "Intersection of A and B: {2, 6}\n",
      "Union of A and B: {0, 2, 3, 4, 5, 6, 7, 8, 10}\n"
     ]
    }
   ],
   "source": [
    "# Given sets\n",
    "A = {2, 3, 4, 5, 6, 7}\n",
    "B = {0, 2, 6, 8, 10}\n",
    "\n",
    "# Intersection of A and B\n",
    "intersection = A.intersection(B)\n",
    "print(\"Intersection of A and B:\", intersection)\n",
    "\n",
    "# Union of A and B\n",
    "union = A.union(B)\n",
    "print(\"Union of A and B:\", union)"
   ]
  },
  {
   "cell_type": "markdown",
   "id": "8df91a6c-d1d3-4cca-bb0c-c3e16cdc162c",
   "metadata": {},
   "source": [
    "Q8. What do you understand about skewness in data?\n",
    "A8. Skewness in data refers to the lack of symmetry in its distribution. It is a measure of the asymmetry of the probability distribution of a real-valued random variable about its mean. In simpler terms, skewness indicates whether the data is skewed to the left (negatively skewed), skewed to the right (positively skewed), or approximately symmetrically distributed.\n",
    "\n",
    "There are three main types of skewness:\n",
    "\n",
    "1. **Negative skewness (left-skewed)**:\n",
    "   - In a negatively skewed distribution, the tail of the distribution extends to the left, meaning that the majority of the data points are concentrated on the right side of the distribution.\n",
    "   - The mean is typically less than the median, and the mode is greater than the median.\n",
    "   - Examples of negatively skewed distributions include income distribution (where a few people have extremely high incomes), exam scores (where a few students score very high marks), etc.\n",
    "\n",
    "2. **Positive skewness (right-skewed)**:\n",
    "   - In a positively skewed distribution, the tail of the distribution extends to the right, indicating that the majority of the data points are concentrated on the left side of the distribution.\n",
    "   - The mean is typically greater than the median, and the mode is less than the median.\n",
    "   - Examples of positively skewed distributions include waiting times (where most people wait for a short duration but a few wait for an extended period), household size (where most households have few members but a few have many members), etc.\n",
    "\n",
    "3. **Zero skewness**:\n",
    "   - A distribution is considered symmetric or approximately symmetric if it has zero skewness. This means that the data is evenly distributed around the mean, and the tails on both sides of the distribution are of equal length.\n",
    "   - In a symmetric distribution, the mean, median, and mode are all equal.\n",
    "\n",
    "Understanding skewness in data is essential for analyzing and interpreting statistical distributions accurately. Skewness provides insights into the shape and characteristics of the data distribution, which can influence decision-making processes in various fields such as finance, economics, social sciences, and more."
   ]
  },
  {
   "cell_type": "markdown",
   "id": "43da1918-189b-4fa2-ad42-b885ab224c7d",
   "metadata": {},
   "source": [
    "Q9. If a data is right skewed then what will be the position of median with respect to mean?\n",
    "A9. In a right-skewed distribution, the tail of the distribution extends to the right, indicating that the majority of the data points are concentrated on the left side of the distribution. In this scenario:\n",
    "\n",
    "1. Mean: The mean is typically pulled towards the longer tail of the distribution. Since there are a few extreme values on the right side of the distribution, the mean will be greater than the median.\n",
    "\n",
    "2. Median: The median represents the middle value of the dataset when arranged in ascending order. In a right-skewed distribution, the median will be less than the mean. This is because the longer tail on the right side of the distribution will cause the median to be closer to the lower end of the dataset, away from the extreme values on the right side.\n",
    "\n",
    "So, in summary:\n",
    "- In a right-skewed distribution, the mean is greater than the median.\n",
    "- The position of the median will be to the left of the mean."
   ]
  },
  {
   "cell_type": "markdown",
   "id": "9ca7523f-3593-48b9-b094-4802b58816bd",
   "metadata": {},
   "source": [
    "Q10. Explain the difference between covariance and correlation. How are these measures used in\n",
    "statistical analysis?\n",
    "A10. Covariance and correlation are both measures used to quantify the relationship between two variables in statistical analysis. However, they differ in terms of their interpretation and scale:\n",
    "\n",
    "1. Covariance:\n",
    "   - Covariance measures the degree to which two variables change together. It indicates the direction of the linear relationship between two variables.\n",
    "   - It can take on any value, positive, negative, or zero. A positive covariance indicates that as one variable increases, the other variable tends to increase as well. A negative covariance indicates that as one variable increases, the other variable tends to decrease. A covariance of zero indicates no linear relationship between the variables.\n",
    "   - However, covariance is sensitive to the scale of the variables. Therefore, it's challenging to interpret the magnitude of covariance alone.\n",
    "\n",
    "2. Correlation:\n",
    "   - Correlation is a standardized measure of the strength and direction of the linear relationship between two variables. It represents the degree to which the variables move together.\n",
    "   - Correlation coefficients range from -1 to +1. A correlation coefficient of +1 indicates a perfect positive linear relationship, -1 indicates a perfect negative linear relationship, and 0 indicates no linear relationship.\n",
    "   - Correlation is not affected by the scale of the variables, making it easier to interpret and compare across different datasets.\n",
    "   - The most commonly used correlation coefficient is Pearson's correlation coefficient, which measures the linear relationship between two continuous variables. However, other correlation coefficients such as Spearman's rank correlation coefficient and Kendall's tau correlation coefficient are used for ordinal or non-parametric data.\n",
    "\n",
    "In summary, while both covariance and correlation measure the relationship between two variables, correlation provides a more interpretable measure that is not affected by the scale of the variables. Covariance is often used as a precursor to correlation, and correlation is widely used in various fields such as economics, finance, psychology, and biology to analyze and interpret the relationships between variables."
   ]
  },
  {
   "cell_type": "markdown",
   "id": "d7340720-f309-44ba-bdde-61db48f9aca9",
   "metadata": {},
   "source": [
    "Q11. What is the formula for calculating the sample mean? Provide an example calculation for a\n",
    "dataset.\n",
    "A11. The formula for calculating the sample mean, denoted by \n",
    "�\n",
    "ˉ\n",
    "x\n",
    "ˉ\n",
    " , is:\n",
    "\n",
    "�\n",
    "ˉ\n",
    "=\n",
    "1\n",
    "�\n",
    "∑\n",
    "�\n",
    "=\n",
    "1\n",
    "�\n",
    "�\n",
    "�\n",
    "x\n",
    "ˉ\n",
    " = \n",
    "n\n",
    "1\n",
    "​\n",
    " ∑ \n",
    "i=1\n",
    "n\n",
    "​\n",
    " x \n",
    "i\n",
    "​\n",
    " \n",
    "\n",
    "Where:\n",
    "\n",
    "�\n",
    "ˉ\n",
    "x\n",
    "ˉ\n",
    "  is the sample mean,\n",
    "�\n",
    "n is the number of observations in the dataset, and\n",
    "�\n",
    "�\n",
    "x \n",
    "i\n",
    "​\n",
    "  represents each individual observation in the dataset.\n",
    "To calculate the sample mean, you sum up all the individual values in the dataset and then divide by the total number of observations."
   ]
  },
  {
   "cell_type": "code",
   "execution_count": 5,
   "id": "6d413bbf-4143-40dc-8f13-27782b826227",
   "metadata": {},
   "outputs": [
    {
     "name": "stdout",
     "output_type": "stream",
     "text": [
      "Sample mean: 20.0\n"
     ]
    }
   ],
   "source": [
    "import pandas as pd\n",
    "\n",
    "# Given dataset\n",
    "data = [10, 15, 20, 25, 30]\n",
    "\n",
    "# Create a pandas Series from the data\n",
    "series = pd.Series(data)\n",
    "\n",
    "# Calculate the sample mean\n",
    "sample_mean = series.mean()\n",
    "\n",
    "print(\"Sample mean:\", sample_mean)"
   ]
  },
  {
   "cell_type": "markdown",
   "id": "405cd820-d65e-400b-bf61-9229f99045c7",
   "metadata": {},
   "source": [
    "Q12. For a normal distribution data what is the relationship between its measure of central tendency?\n",
    "A12. For a normal distribution, the relationship between its measures of central tendency (mean, median, and mode) is as follows:\n",
    "\n",
    "1. Mean (μ):\n",
    "   - In a normal distribution, the mean is located at the center of the distribution.\n",
    "   - The mean is equal to the median and the mode.\n",
    "\n",
    "2. Median:\n",
    "   - In a normal distribution, the median is also located at the center of the distribution.\n",
    "   - The median is equal to the mean and the mode.\n",
    "\n",
    "3. Mode:\n",
    "   - In a normal distribution, the mode is also located at the center of the distribution.\n",
    "   - The mode is equal to the mean and the median.\n",
    "\n",
    "In summary, for a normal distribution, the mean, median, and mode are all equal and are located at the center of the distribution. This makes normal distributions highly symmetric, with their measures of central tendency being coincident."
   ]
  },
  {
   "cell_type": "markdown",
   "id": "8b3d71be-d9db-4aed-ac42-b98274b67deb",
   "metadata": {},
   "source": [
    "Q13. How is covariance different from correlation?\n",
    "A13. "
   ]
  },
  {
   "cell_type": "markdown",
   "id": "f3b2663d-988c-4e8f-95e3-23d8acf9e11e",
   "metadata": {},
   "source": [
    "Q14. How do outliers affect measures of central tendency and dispersion? Provide an example.\n",
    "A14. "
   ]
  }
 ],
 "metadata": {
  "kernelspec": {
   "display_name": "Python 3 (ipykernel)",
   "language": "python",
   "name": "python3"
  },
  "language_info": {
   "codemirror_mode": {
    "name": "ipython",
    "version": 3
   },
   "file_extension": ".py",
   "mimetype": "text/x-python",
   "name": "python",
   "nbconvert_exporter": "python",
   "pygments_lexer": "ipython3",
   "version": "3.10.8"
  }
 },
 "nbformat": 4,
 "nbformat_minor": 5
}
